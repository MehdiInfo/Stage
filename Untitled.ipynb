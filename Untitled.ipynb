{
 "cells": [
  {
   "cell_type": "code",
   "execution_count": 1,
   "id": "c7e6e210",
   "metadata": {},
   "outputs": [
    {
     "name": "stdout",
     "output_type": "stream",
     "text": [
      " Le volume dans le lecteur C s'appelle OS\n",
      " Le num‚ro de s‚rie du volume est 8C80-8848\n",
      "\n",
      " R‚pertoire de C:\\Users\\Mehdi\\Documents\\Stage\\data\n",
      "\n",
      "14/04/2022  12:47    <DIR>          .\n",
      "14/04/2022  12:47    <DIR>          ..\n",
      "14/04/2022  12:47    <DIR>          .ipynb_checkpoints\n",
      "16/09/2018  09:52         3ÿ615ÿ188 1-s2.0-S0360132318305638-main.pdf\n",
      "26/01/2018  17:11           152ÿ971 CO2_107.csv\n",
      "31/01/2018  18:23           238ÿ974 CO2_107.xlsx\n",
      "26/01/2018  17:18           140ÿ434 CO2_foyer.csv\n",
      "02/02/2018  16:30           148ÿ212 CO2_foyer.xlsx\n",
      "31/01/2018  17:58         1ÿ048ÿ258 CO2_R‚union.csv\n",
      "14/04/2022  12:27    <DIR>          combinerExcel\n",
      "14/04/2022  12:40             2ÿ314 Compilation_de_donn‚es.py\n",
      "13/04/2022  15:09        16ÿ247ÿ308 Compiler.csv\n",
      "14/04/2022  12:29         4ÿ480ÿ221 Compiler_Final.csv\n",
      "13/04/2022  15:12        14ÿ709ÿ189 Compiler2.csv\n",
      "13/04/2022  15:18        14ÿ709ÿ189 Compiler3.csv\n",
      "13/04/2022  15:25        16ÿ498ÿ571 Compiler4.csv\n",
      "13/04/2022  16:12        13ÿ191ÿ640 Compiler5.csv\n",
      "13/04/2022  16:18        12ÿ722ÿ270 Compiler6.csv\n",
      "14/04/2022  09:21        11ÿ435ÿ083 Compiler7.csv\n",
      "07/02/2019  22:25           114ÿ088 Conso 2015-2016- 2017.xlsx\n",
      "23/04/2018  11:49            29ÿ047 Conso 2017 le 18-01-18 .xlsx\n",
      "05/05/2017  17:23            73ÿ485 Conso 2017 le 31-03-17.xlsx\n",
      "09/04/2018  15:46            10ÿ856 IAQ.xlsx\n",
      "26/01/2018  17:07         1ÿ085ÿ671 MesuresCourbesEtExportFiltre.csv\n",
      "29/06/2018  09:13            17ÿ599 posty treatment comfort.xlsx\n",
      "11/04/2022  09:22               228 read.py\n",
      "25/08/2018  14:56            30ÿ534 Summary Abed.xlsx\n",
      "26/01/2018  17:14           164ÿ534 T_107.csv\n",
      "26/01/2018  17:22           112ÿ893 T_107.xlsx\n",
      "31/01/2018  17:57         1ÿ108ÿ356 T_Adm_109.csv\n",
      "31/01/2018  20:06         2ÿ176ÿ168 T_CO2_002.csv\n",
      "31/01/2018  20:20         2ÿ052ÿ429 T_CO2_002.xlsx\n",
      "31/01/2018  20:05         2ÿ221ÿ066 T_CO2_005.csv\n",
      "31/01/2018  20:16         2ÿ086ÿ577 T_CO2_005.xlsx\n",
      "12/04/2018  11:32         1ÿ563ÿ115 T_CO2_005_107_2015_agregated_post_treated.xlsx\n",
      "10/04/2018  14:53         1ÿ498ÿ374 T_CO2_005_post_treated.xlsx\n",
      "31/01/2018  19:59         2ÿ872ÿ197 T_CO2_107.csv\n",
      "31/01/2018  19:59         2ÿ055ÿ188 T_CO2_107.xlsx\n",
      "12/04/2018  11:31         2ÿ292ÿ642 T_CO2_107-post-treated.xlsx\n",
      "31/01/2018  20:04         2ÿ225ÿ448 T_CO2_205.csv\n",
      "31/01/2018  20:12         2ÿ090ÿ770 T_CO2_205.xlsx\n",
      "12/04/2018  11:31         1ÿ503ÿ149 T_CO2_205_post_treated.xlsx\n",
      "31/01/2018  17:49         2ÿ223ÿ083 T_CO2_208.csv\n",
      "14/04/2022  12:47                72 Untitled.ipynb\n",
      "              40 fichier(s)      138ÿ947ÿ391 octets\n",
      "               4 R‚p(s)  16ÿ495ÿ677ÿ440 octets libres\n"
     ]
    }
   ],
   "source": [
    "ls"
   ]
  },
  {
   "cell_type": "code",
   "execution_count": null,
   "id": "bdce297b",
   "metadata": {},
   "outputs": [],
   "source": []
  }
 ],
 "metadata": {
  "kernelspec": {
   "display_name": "Python 3 (ipykernel)",
   "language": "python",
   "name": "python3"
  },
  "language_info": {
   "codemirror_mode": {
    "name": "ipython",
    "version": 3
   },
   "file_extension": ".py",
   "mimetype": "text/x-python",
   "name": "python",
   "nbconvert_exporter": "python",
   "pygments_lexer": "ipython3",
   "version": "3.9.7"
  }
 },
 "nbformat": 4,
 "nbformat_minor": 5
}
